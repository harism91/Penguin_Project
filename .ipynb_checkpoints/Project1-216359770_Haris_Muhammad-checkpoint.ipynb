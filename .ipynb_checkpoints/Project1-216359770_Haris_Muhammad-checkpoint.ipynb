{
 "cells": [
  {
   "cell_type": "markdown",
   "id": "68bc06d0",
   "metadata": {},
   "source": [
    "# Penguine data set "
   ]
  },
  {
   "cell_type": "markdown",
   "id": "fe512693",
   "metadata": {},
   "source": [
    "The data folder contains a csv file: penguins_size.csv\n",
    "• penguins_size.csv: Simplified data from original penguin data sets. Contains variables: o species: penguin species (Chinstrap, Adélie, or Gentoo)\n",
    "    o culmen_length_mm: culmen length (mm)\n",
    "    o culmen_depth_mm: culmen depth (mm)\n",
    "    o flipper_length_mm: flipper length (mm)\n",
    "    o body_mass_g: body mass (g)\n",
    "    o island: island name (Dream, Torgersen, or Biscoe) in the Palmer Archipelago (Antarctica) o sex: penguin sex\n",
    "    \n",
    "The objective of this program is to predict the class of penguin species\n"
   ]
  },
  {
   "cell_type": "code",
   "execution_count": 1,
   "id": "06ff26be",
   "metadata": {},
   "outputs": [
    {
     "data": {
      "text/html": [
       "<div>\n",
       "<style scoped>\n",
       "    .dataframe tbody tr th:only-of-type {\n",
       "        vertical-align: middle;\n",
       "    }\n",
       "\n",
       "    .dataframe tbody tr th {\n",
       "        vertical-align: top;\n",
       "    }\n",
       "\n",
       "    .dataframe thead th {\n",
       "        text-align: right;\n",
       "    }\n",
       "</style>\n",
       "<table border=\"1\" class=\"dataframe\">\n",
       "  <thead>\n",
       "    <tr style=\"text-align: right;\">\n",
       "      <th></th>\n",
       "      <th>species</th>\n",
       "      <th>island</th>\n",
       "      <th>culmen_length_mm</th>\n",
       "      <th>culmen_depth_mm</th>\n",
       "      <th>flipper_length_mm</th>\n",
       "      <th>body_mass_g</th>\n",
       "      <th>sex</th>\n",
       "    </tr>\n",
       "  </thead>\n",
       "  <tbody>\n",
       "    <tr>\n",
       "      <th>0</th>\n",
       "      <td>Adelie</td>\n",
       "      <td>Torgersen</td>\n",
       "      <td>39.1</td>\n",
       "      <td>18.7</td>\n",
       "      <td>181.0</td>\n",
       "      <td>3750.0</td>\n",
       "      <td>MALE</td>\n",
       "    </tr>\n",
       "    <tr>\n",
       "      <th>1</th>\n",
       "      <td>Adelie</td>\n",
       "      <td>Torgersen</td>\n",
       "      <td>39.5</td>\n",
       "      <td>17.4</td>\n",
       "      <td>186.0</td>\n",
       "      <td>3800.0</td>\n",
       "      <td>FEMALE</td>\n",
       "    </tr>\n",
       "    <tr>\n",
       "      <th>2</th>\n",
       "      <td>Adelie</td>\n",
       "      <td>Torgersen</td>\n",
       "      <td>40.3</td>\n",
       "      <td>18.0</td>\n",
       "      <td>195.0</td>\n",
       "      <td>3250.0</td>\n",
       "      <td>FEMALE</td>\n",
       "    </tr>\n",
       "    <tr>\n",
       "      <th>3</th>\n",
       "      <td>Adelie</td>\n",
       "      <td>Torgersen</td>\n",
       "      <td>NaN</td>\n",
       "      <td>NaN</td>\n",
       "      <td>NaN</td>\n",
       "      <td>NaN</td>\n",
       "      <td>NaN</td>\n",
       "    </tr>\n",
       "    <tr>\n",
       "      <th>4</th>\n",
       "      <td>Adelie</td>\n",
       "      <td>Torgersen</td>\n",
       "      <td>36.7</td>\n",
       "      <td>19.3</td>\n",
       "      <td>193.0</td>\n",
       "      <td>3450.0</td>\n",
       "      <td>FEMALE</td>\n",
       "    </tr>\n",
       "  </tbody>\n",
       "</table>\n",
       "</div>"
      ],
      "text/plain": [
       "  species     island  culmen_length_mm  culmen_depth_mm  flipper_length_mm  \\\n",
       "0  Adelie  Torgersen              39.1             18.7              181.0   \n",
       "1  Adelie  Torgersen              39.5             17.4              186.0   \n",
       "2  Adelie  Torgersen              40.3             18.0              195.0   \n",
       "3  Adelie  Torgersen               NaN              NaN                NaN   \n",
       "4  Adelie  Torgersen              36.7             19.3              193.0   \n",
       "\n",
       "   body_mass_g     sex  \n",
       "0       3750.0    MALE  \n",
       "1       3800.0  FEMALE  \n",
       "2       3250.0  FEMALE  \n",
       "3          NaN     NaN  \n",
       "4       3450.0  FEMALE  "
      ]
     },
     "execution_count": 1,
     "metadata": {},
     "output_type": "execute_result"
    }
   ],
   "source": [
    "import matplotlib.pyplot as plt\n",
    "import pandas as pd\n",
    "import seaborn as sns\n",
    "import numpy as np\n",
    "import joblib\n",
    "from sklearn.svm import SVC\n",
    "from sklearn.metrics import accuracy_score, precision_score, recall_score\n",
    "from time import time\n",
    "%matplotlib inline\n",
    "from sklearn.model_selection import train_test_split\n",
    "from sklearn.ensemble import GradientBoostingClassifier\n",
    "from sklearn.ensemble import RandomForestClassifier\n",
    "from sklearn.model_selection import cross_val_score\n",
    "from sklearn.model_selection import GridSearchCV\n",
    "from sklearn.neural_network import MLPClassifier\n",
    "\n",
    "from sklearn.metrics import accuracy_score, precision_score, recall_score\n",
    "\n",
    "import warnings\n",
    "warnings.filterwarnings('ignore', category=FutureWarning)\n",
    "warnings.filterwarnings('ignore', category=DeprecationWarning)\n",
    "\n",
    "\n",
    "penguin = pd.read_csv('penguins_size.csv')\n",
    "penguin.head()"
   ]
  },
  {
   "cell_type": "markdown",
   "id": "576a20a7",
   "metadata": {},
   "source": [
    "#### find nulls and Explore continuous features"
   ]
  },
  {
   "cell_type": "code",
   "execution_count": 2,
   "id": "22f53990",
   "metadata": {},
   "outputs": [
    {
     "data": {
      "text/html": [
       "<div>\n",
       "<style scoped>\n",
       "    .dataframe tbody tr th:only-of-type {\n",
       "        vertical-align: middle;\n",
       "    }\n",
       "\n",
       "    .dataframe tbody tr th {\n",
       "        vertical-align: top;\n",
       "    }\n",
       "\n",
       "    .dataframe thead th {\n",
       "        text-align: right;\n",
       "    }\n",
       "</style>\n",
       "<table border=\"1\" class=\"dataframe\">\n",
       "  <thead>\n",
       "    <tr style=\"text-align: right;\">\n",
       "      <th></th>\n",
       "      <th>culmen_length_mm</th>\n",
       "      <th>culmen_depth_mm</th>\n",
       "      <th>flipper_length_mm</th>\n",
       "      <th>body_mass_g</th>\n",
       "    </tr>\n",
       "  </thead>\n",
       "  <tbody>\n",
       "    <tr>\n",
       "      <th>count</th>\n",
       "      <td>342.000000</td>\n",
       "      <td>342.000000</td>\n",
       "      <td>342.000000</td>\n",
       "      <td>342.000000</td>\n",
       "    </tr>\n",
       "    <tr>\n",
       "      <th>mean</th>\n",
       "      <td>43.921930</td>\n",
       "      <td>17.151170</td>\n",
       "      <td>200.915205</td>\n",
       "      <td>4201.754386</td>\n",
       "    </tr>\n",
       "    <tr>\n",
       "      <th>std</th>\n",
       "      <td>5.459584</td>\n",
       "      <td>1.974793</td>\n",
       "      <td>14.061714</td>\n",
       "      <td>801.954536</td>\n",
       "    </tr>\n",
       "    <tr>\n",
       "      <th>min</th>\n",
       "      <td>32.100000</td>\n",
       "      <td>13.100000</td>\n",
       "      <td>172.000000</td>\n",
       "      <td>2700.000000</td>\n",
       "    </tr>\n",
       "    <tr>\n",
       "      <th>25%</th>\n",
       "      <td>39.225000</td>\n",
       "      <td>15.600000</td>\n",
       "      <td>190.000000</td>\n",
       "      <td>3550.000000</td>\n",
       "    </tr>\n",
       "    <tr>\n",
       "      <th>50%</th>\n",
       "      <td>44.450000</td>\n",
       "      <td>17.300000</td>\n",
       "      <td>197.000000</td>\n",
       "      <td>4050.000000</td>\n",
       "    </tr>\n",
       "    <tr>\n",
       "      <th>75%</th>\n",
       "      <td>48.500000</td>\n",
       "      <td>18.700000</td>\n",
       "      <td>213.000000</td>\n",
       "      <td>4750.000000</td>\n",
       "    </tr>\n",
       "    <tr>\n",
       "      <th>max</th>\n",
       "      <td>59.600000</td>\n",
       "      <td>21.500000</td>\n",
       "      <td>231.000000</td>\n",
       "      <td>6300.000000</td>\n",
       "    </tr>\n",
       "  </tbody>\n",
       "</table>\n",
       "</div>"
      ],
      "text/plain": [
       "       culmen_length_mm  culmen_depth_mm  flipper_length_mm  body_mass_g\n",
       "count        342.000000       342.000000         342.000000   342.000000\n",
       "mean          43.921930        17.151170         200.915205  4201.754386\n",
       "std            5.459584         1.974793          14.061714   801.954536\n",
       "min           32.100000        13.100000         172.000000  2700.000000\n",
       "25%           39.225000        15.600000         190.000000  3550.000000\n",
       "50%           44.450000        17.300000         197.000000  4050.000000\n",
       "75%           48.500000        18.700000         213.000000  4750.000000\n",
       "max           59.600000        21.500000         231.000000  6300.000000"
      ]
     },
     "execution_count": 2,
     "metadata": {},
     "output_type": "execute_result"
    }
   ],
   "source": [
    "penguin.isnull().sum()\n",
    "penguin.describe()"
   ]
  },
  {
   "cell_type": "markdown",
   "id": "63b573a7",
   "metadata": {},
   "source": [
    "### Clean continuous variables\n",
    "    1. Fill in missing values\n",
    "    2. Drop irrelevant/repetitive variables such as sex\n",
    "    3. convert name attributes into numerical\n"
   ]
  },
  {
   "cell_type": "markdown",
   "id": "afbc9da8",
   "metadata": {},
   "source": [
    "#### Fill in missing values  such as NaN with average"
   ]
  },
  {
   "cell_type": "code",
   "execution_count": 3,
   "id": "5ff9a951",
   "metadata": {},
   "outputs": [],
   "source": [
    "penguin['culmen_length_mm'].fillna(penguin['culmen_length_mm'].mean(), inplace=True)\n",
    "penguin['culmen_depth_mm'].fillna(penguin['culmen_depth_mm'].mean(), inplace=True)\n",
    "penguin['flipper_length_mm'].fillna(penguin['flipper_length_mm'].mean(), inplace=True)\n",
    "penguin['body_mass_g'].fillna(penguin['body_mass_g'].mean(), inplace=True)\n"
   ]
  },
  {
   "cell_type": "markdown",
   "id": "4555f5a0",
   "metadata": {},
   "source": [
    "#### drop sex since its not needed when determineing species"
   ]
  },
  {
   "cell_type": "code",
   "execution_count": 4,
   "id": "a554cc20",
   "metadata": {},
   "outputs": [],
   "source": [
    "# gender_num = {'MALE': 0, 'FEMALE': 1}\n",
    "# penguin['sex'] = penguxxin['sex'].map(gender_num)\n",
    "# penguin['sex'].fillna(penguin['sex'].mean(), inplace=True)\n",
    "\n",
    "penguin.drop(['sex'], axis=1, inplace=True)\n",
    "\n"
   ]
  },
  {
   "cell_type": "markdown",
   "id": "b0636f66",
   "metadata": {},
   "source": [
    "#### convert name attributes into numerical\n",
    "##### island: 'Torgersen': 1, 'Biscoe': 2,  'Biscoe': 3\n",
    "##### species = Adelie': 1, 'Chinstrap': 2,  'Gentoo': 3 \n"
   ]
  },
  {
   "cell_type": "code",
   "execution_count": 5,
   "id": "dfb841c5",
   "metadata": {},
   "outputs": [
    {
     "data": {
      "text/html": [
       "<div>\n",
       "<style scoped>\n",
       "    .dataframe tbody tr th:only-of-type {\n",
       "        vertical-align: middle;\n",
       "    }\n",
       "\n",
       "    .dataframe tbody tr th {\n",
       "        vertical-align: top;\n",
       "    }\n",
       "\n",
       "    .dataframe thead th {\n",
       "        text-align: right;\n",
       "    }\n",
       "</style>\n",
       "<table border=\"1\" class=\"dataframe\">\n",
       "  <thead>\n",
       "    <tr style=\"text-align: right;\">\n",
       "      <th></th>\n",
       "      <th>species</th>\n",
       "      <th>island</th>\n",
       "      <th>culmen_length_mm</th>\n",
       "      <th>culmen_depth_mm</th>\n",
       "      <th>flipper_length_mm</th>\n",
       "      <th>body_mass_g</th>\n",
       "    </tr>\n",
       "  </thead>\n",
       "  <tbody>\n",
       "    <tr>\n",
       "      <th>0</th>\n",
       "      <td>1</td>\n",
       "      <td>1</td>\n",
       "      <td>39.10000</td>\n",
       "      <td>18.70000</td>\n",
       "      <td>181.000000</td>\n",
       "      <td>3750.000000</td>\n",
       "    </tr>\n",
       "    <tr>\n",
       "      <th>1</th>\n",
       "      <td>1</td>\n",
       "      <td>1</td>\n",
       "      <td>39.50000</td>\n",
       "      <td>17.40000</td>\n",
       "      <td>186.000000</td>\n",
       "      <td>3800.000000</td>\n",
       "    </tr>\n",
       "    <tr>\n",
       "      <th>2</th>\n",
       "      <td>1</td>\n",
       "      <td>1</td>\n",
       "      <td>40.30000</td>\n",
       "      <td>18.00000</td>\n",
       "      <td>195.000000</td>\n",
       "      <td>3250.000000</td>\n",
       "    </tr>\n",
       "    <tr>\n",
       "      <th>3</th>\n",
       "      <td>1</td>\n",
       "      <td>1</td>\n",
       "      <td>43.92193</td>\n",
       "      <td>17.15117</td>\n",
       "      <td>200.915205</td>\n",
       "      <td>4201.754386</td>\n",
       "    </tr>\n",
       "    <tr>\n",
       "      <th>4</th>\n",
       "      <td>1</td>\n",
       "      <td>1</td>\n",
       "      <td>36.70000</td>\n",
       "      <td>19.30000</td>\n",
       "      <td>193.000000</td>\n",
       "      <td>3450.000000</td>\n",
       "    </tr>\n",
       "  </tbody>\n",
       "</table>\n",
       "</div>"
      ],
      "text/plain": [
       "   species  island  culmen_length_mm  culmen_depth_mm  flipper_length_mm  \\\n",
       "0        1       1          39.10000         18.70000         181.000000   \n",
       "1        1       1          39.50000         17.40000         186.000000   \n",
       "2        1       1          40.30000         18.00000         195.000000   \n",
       "3        1       1          43.92193         17.15117         200.915205   \n",
       "4        1       1          36.70000         19.30000         193.000000   \n",
       "\n",
       "   body_mass_g  \n",
       "0  3750.000000  \n",
       "1  3800.000000  \n",
       "2  3250.000000  \n",
       "3  4201.754386  \n",
       "4  3450.000000  "
      ]
     },
     "execution_count": 5,
     "metadata": {},
     "output_type": "execute_result"
    }
   ],
   "source": [
    "island_num = {'Torgersen': 1, 'Biscoe': 2,  'Dream': 3 }\n",
    "penguin['island'] = penguin['island'].map(island_num)\n",
    "species_num = {'Adelie': 1, 'Chinstrap': 2,  'Gentoo': 3 }\n",
    "penguin['species'] = penguin['species'].map(species_num)\n",
    "penguin.head()\n"
   ]
  },
  {
   "cell_type": "markdown",
   "id": "0cce3fb6",
   "metadata": {},
   "source": [
    "### EDA\n",
    "    1. compare atributes agaisnt speices\n",
    "    2. compare attribute average with the rest of the attributes"
   ]
  },
  {
   "cell_type": "code",
   "execution_count": 6,
   "id": "42db69dc",
   "metadata": {},
   "outputs": [
    {
     "data": {
      "image/png": "[encoded data removed]",
      "text/plain": [
       "<Figure size 720x360 with 1 Axes>"
      ]
     },
     "metadata": {
      "needs_background": "light"
     },
     "output_type": "display_data"
    },
    {
     "data": {
      "image/png": "[encoded data removed]",
      "text/plain": [
       "<Figure size 720x360 with 1 Axes>"
      ]
     },
     "metadata": {
      "needs_background": "light"
     },
     "output_type": "display_data"
    },
    {
     "data": {
      "image/png": "[encoded data removed]",
      "text/plain": [
       "<Figure size 720x360 with 1 Axes>"
      ]
     },
     "metadata": {
      "needs_background": "light"
     },
     "output_type": "display_data"
    },
    {
     "data": {
      "image/png": "[encoded data removed]",
      "text/plain": [
       "<Figure size 720x360 with 1 Axes>"
      ]
     },
     "metadata": {
      "needs_background": "light"
     },
     "output_type": "display_data"
    },
    {
     "data": {
      "text/plain": [
       "<Figure size 432x288 with 0 Axes>"
      ]
     },
     "metadata": {},
     "output_type": "display_data"
    },
    {
     "data": {
      "image/png": "[encoded data removed]",
      "text/plain": [
       "<Figure size 720x360 with 1 Axes>"
      ]
     },
     "metadata": {
      "needs_background": "light"
     },
     "output_type": "display_data"
    }
   ],
   "source": [
    "for i, col in enumerate(['species']):\n",
    "    plt.figure(i)\n",
    "    sns.catplot(x=col, y='island', data=penguin, kind='point', aspect=2, )\n",
    "for i, col in enumerate(['species']):\n",
    "    plt.figure(i)\n",
    "    sns.catplot(x=col, y='culmen_length_mm', data=penguin, kind='point', aspect=2, )\n",
    "for i, col in enumerate(['species']):\n",
    "    plt.figure(i)\n",
    "    sns.catplot(x=col, y='culmen_depth_mm', data=penguin, kind='point', aspect=2, )\n",
    "for i, col in enumerate(['species']):\n",
    "    plt.figure(i)\n",
    "    sns.catplot(x=col, y='body_mass_g', data=penguin, kind='point', aspect=2, )\n",
    "for i, col in enumerate(['species']):\n",
    "    plt.figure(i)\n",
    "    sns.catplot(x=col, y='flipper_length_mm', data=penguin, kind='point', aspect=2, )\n",
    "    "
   ]
  },
  {
   "cell_type": "markdown",
   "id": "dad7d56e",
   "metadata": {},
   "source": [
    "#### Here in the output of cell 6 we can see that species 1 has the smallest culmen_length_mm on average \n",
    "#### and species 3 has the smallest culmen_depth_mm and the most body_mass_g, flipper_length_mm on average "
   ]
  },
  {
   "cell_type": "code",
   "execution_count": 7,
   "id": "40a80e61",
   "metadata": {
    "scrolled": true
   },
   "outputs": [
    {
     "data": {
      "text/html": [
       "<div>\n",
       "<style scoped>\n",
       "    .dataframe tbody tr th:only-of-type {\n",
       "        vertical-align: middle;\n",
       "    }\n",
       "\n",
       "    .dataframe tbody tr th {\n",
       "        vertical-align: top;\n",
       "    }\n",
       "\n",
       "    .dataframe thead th {\n",
       "        text-align: right;\n",
       "    }\n",
       "</style>\n",
       "<table border=\"1\" class=\"dataframe\">\n",
       "  <thead>\n",
       "    <tr style=\"text-align: right;\">\n",
       "      <th></th>\n",
       "      <th>island</th>\n",
       "      <th>culmen_length_mm</th>\n",
       "      <th>culmen_depth_mm</th>\n",
       "      <th>flipper_length_mm</th>\n",
       "      <th>body_mass_g</th>\n",
       "    </tr>\n",
       "    <tr>\n",
       "      <th>species</th>\n",
       "      <th></th>\n",
       "      <th></th>\n",
       "      <th></th>\n",
       "      <th></th>\n",
       "      <th></th>\n",
       "    </tr>\n",
       "  </thead>\n",
       "  <tbody>\n",
       "    <tr>\n",
       "      <th>1</th>\n",
       "      <td>2.026316</td>\n",
       "      <td>38.825144</td>\n",
       "      <td>18.338495</td>\n",
       "      <td>190.025758</td>\n",
       "      <td>3703.958910</td>\n",
       "    </tr>\n",
       "    <tr>\n",
       "      <th>2</th>\n",
       "      <td>3.000000</td>\n",
       "      <td>48.833824</td>\n",
       "      <td>18.420588</td>\n",
       "      <td>195.823529</td>\n",
       "      <td>3733.088235</td>\n",
       "    </tr>\n",
       "    <tr>\n",
       "      <th>3</th>\n",
       "      <td>2.000000</td>\n",
       "      <td>47.475983</td>\n",
       "      <td>14.999606</td>\n",
       "      <td>217.055768</td>\n",
       "      <td>5068.965761</td>\n",
       "    </tr>\n",
       "  </tbody>\n",
       "</table>\n",
       "</div>"
      ],
      "text/plain": [
       "           island  culmen_length_mm  culmen_depth_mm  flipper_length_mm  \\\n",
       "species                                                                   \n",
       "1        2.026316         38.825144        18.338495         190.025758   \n",
       "2        3.000000         48.833824        18.420588         195.823529   \n",
       "3        2.000000         47.475983        14.999606         217.055768   \n",
       "\n",
       "         body_mass_g  \n",
       "species               \n",
       "1        3703.958910  \n",
       "2        3733.088235  \n",
       "3        5068.965761  "
      ]
     },
     "execution_count": 7,
     "metadata": {},
     "output_type": "execute_result"
    }
   ],
   "source": [
    "penguin.groupby('species').mean()"
   ]
  },
  {
   "cell_type": "markdown",
   "id": "7299ab1a",
   "metadata": {},
   "source": [
    "#### In cell 7 the function compares attribute averages with the rest of the attributes, this shows us the same result j"
   ]
  },
  {
   "cell_type": "markdown",
   "id": "fa9c9b06",
   "metadata": {},
   "source": [
    "### Split into train, validation, and test set\n"
   ]
  },
  {
   "cell_type": "code",
   "execution_count": 8,
   "id": "0efb829c",
   "metadata": {},
   "outputs": [],
   "source": [
    "features = penguin.drop('species', axis=1)\n",
    "labels = penguin['species']\n",
    "\n",
    "X_train, X_test, y_train, y_test = train_test_split(features, labels, test_size=0.4, random_state=42)\n",
    "X_test, X_val, y_test, y_val = train_test_split(X_test, y_test, test_size=0.5, random_state=42)\n",
    "\n",
    "X_train2, X_test2, y_train2, y_test2 = train_test_split(features, labels, test_size=0.2, random_state=42)\n",
    "X_test2, X_val2, y_test2, y_val2 = train_test_split(X_test2, y_test2, test_size=0.5, random_state=42)"
   ]
  },
  {
   "cell_type": "markdown",
   "id": "86d99f60",
   "metadata": {},
   "source": [
    "### Write out data"
   ]
  },
  {
   "cell_type": "code",
   "execution_count": 9,
   "id": "9e85e93a",
   "metadata": {},
   "outputs": [],
   "source": [
    "X_train.to_csv('train_features.csv', index=False)\n",
    "X_val.to_csv('val_features.csv', index=False)\n",
    "X_test.to_csv('test_features.csv', index=False)\n",
    "\n",
    "y_train.to_csv('train_labels.csv', index=False)\n",
    "y_val.to_csv('val_labels.csv', index=False)\n",
    "y_test.to_csv('test_labels.csv', index=False)\n",
    "\n",
    "\n",
    "\n",
    "X_train2.to_csv('train_features2.csv', index=False)\n",
    "X_val2.to_csv('val_features2.csv', index=False)\n",
    "X_test2.to_csv('test_features2.csv', index=False)\n",
    "\n",
    "y_train2.to_csv('train_labels2.csv', index=False)\n",
    "y_val2.to_csv('val_labels2.csv', index=False)\n",
    "y_test2.to_csv('test_labels2.csv', index=False)"
   ]
  },
  {
   "cell_type": "markdown",
   "id": "182f852b",
   "metadata": {},
   "source": [
    "### Read in data"
   ]
  },
  {
   "cell_type": "code",
   "execution_count": 10,
   "id": "2d8f0a2d",
   "metadata": {},
   "outputs": [
    {
     "data": {
      "text/html": [
       "<div>\n",
       "<style scoped>\n",
       "    .dataframe tbody tr th:only-of-type {\n",
       "        vertical-align: middle;\n",
       "    }\n",
       "\n",
       "    .dataframe tbody tr th {\n",
       "        vertical-align: top;\n",
       "    }\n",
       "\n",
       "    .dataframe thead th {\n",
       "        text-align: right;\n",
       "    }\n",
       "</style>\n",
       "<table border=\"1\" class=\"dataframe\">\n",
       "  <thead>\n",
       "    <tr style=\"text-align: right;\">\n",
       "      <th></th>\n",
       "      <th>species</th>\n",
       "      <th>island</th>\n",
       "      <th>culmen_length_mm</th>\n",
       "      <th>culmen_depth_mm</th>\n",
       "      <th>flipper_length_mm</th>\n",
       "      <th>body_mass_g</th>\n",
       "    </tr>\n",
       "  </thead>\n",
       "  <tbody>\n",
       "    <tr>\n",
       "      <th>0</th>\n",
       "      <td>1</td>\n",
       "      <td>1</td>\n",
       "      <td>39.10000</td>\n",
       "      <td>18.70000</td>\n",
       "      <td>181.000000</td>\n",
       "      <td>3750.000000</td>\n",
       "    </tr>\n",
       "    <tr>\n",
       "      <th>1</th>\n",
       "      <td>1</td>\n",
       "      <td>1</td>\n",
       "      <td>39.50000</td>\n",
       "      <td>17.40000</td>\n",
       "      <td>186.000000</td>\n",
       "      <td>3800.000000</td>\n",
       "    </tr>\n",
       "    <tr>\n",
       "      <th>2</th>\n",
       "      <td>1</td>\n",
       "      <td>1</td>\n",
       "      <td>40.30000</td>\n",
       "      <td>18.00000</td>\n",
       "      <td>195.000000</td>\n",
       "      <td>3250.000000</td>\n",
       "    </tr>\n",
       "    <tr>\n",
       "      <th>3</th>\n",
       "      <td>1</td>\n",
       "      <td>1</td>\n",
       "      <td>43.92193</td>\n",
       "      <td>17.15117</td>\n",
       "      <td>200.915205</td>\n",
       "      <td>4201.754386</td>\n",
       "    </tr>\n",
       "    <tr>\n",
       "      <th>4</th>\n",
       "      <td>1</td>\n",
       "      <td>1</td>\n",
       "      <td>36.70000</td>\n",
       "      <td>19.30000</td>\n",
       "      <td>193.000000</td>\n",
       "      <td>3450.000000</td>\n",
       "    </tr>\n",
       "  </tbody>\n",
       "</table>\n",
       "</div>"
      ],
      "text/plain": [
       "   species  island  culmen_length_mm  culmen_depth_mm  flipper_length_mm  \\\n",
       "0        1       1          39.10000         18.70000         181.000000   \n",
       "1        1       1          39.50000         17.40000         186.000000   \n",
       "2        1       1          40.30000         18.00000         195.000000   \n",
       "3        1       1          43.92193         17.15117         200.915205   \n",
       "4        1       1          36.70000         19.30000         193.000000   \n",
       "\n",
       "   body_mass_g  \n",
       "0  3750.000000  \n",
       "1  3800.000000  \n",
       "2  3250.000000  \n",
       "3  4201.754386  \n",
       "4  3450.000000  "
      ]
     },
     "execution_count": 10,
     "metadata": {},
     "output_type": "execute_result"
    }
   ],
   "source": [
    "tr_features = pd.read_csv('train_features.csv')\n",
    "tr_labels = pd.read_csv('train_labels.csv')\n",
    "\n",
    "val_features = pd.read_csv('val_features.csv')\n",
    "val_labels = pd.read_csv('val_labels.csv')\n",
    "\n",
    "te_features = pd.read_csv('test_features.csv')\n",
    "te_labels = pd.read_csv('test_labels.csv')\n",
    "\n",
    "tr_features2 = pd.read_csv('train_features2.csv')\n",
    "tr_labels2 = pd.read_csv('train_labels2.csv')\n",
    "\n",
    "val_features2 = pd.read_csv('val_features2.csv')\n",
    "val_labels2 = pd.read_csv('val_labels2.csv')\n",
    "\n",
    "te_features2 = pd.read_csv('test_features2.csv')\n",
    "te_labels2 = pd.read_csv('test_labels2.csv')\n",
    "penguin.head()\n"
   ]
  },
  {
   "cell_type": "markdown",
   "id": "5ff0ba7a",
   "metadata": {},
   "source": [
    "### Hyperparameter tuning\n",
    "#### RF\n",
    "#### MLP\n",
    "#### svm "
   ]
  },
  {
   "cell_type": "markdown",
   "id": "a0a2106a",
   "metadata": {},
   "source": [
    "### Plot learning curve "
   ]
  },
  {
   "cell_type": "code",
   "execution_count": 11,
   "id": "432806fb",
   "metadata": {},
   "outputs": [],
   "source": [
    "import matplotlib.pyplot as plt\n",
    "from sklearn.model_selection import learning_curve\n",
    "\n",
    "\n",
    "def plot_learning_curve(\n",
    "    estimator,\n",
    "    title,\n",
    "    X,\n",
    "    y,\n",
    "    axes=None,\n",
    "    ylim=None,\n",
    "    cv=None,\n",
    "    n_jobs=None,\n",
    "    train_sizes=np.linspace(0.1, 1.0, 10),\n",
    "):\n",
    "    if axes is None:\n",
    "        _, axes = plt.subplots(1, 1, figsize=(20, 5))\n",
    "\n",
    "    axes.set_title(title)\n",
    "    if ylim is not None:\n",
    "        axes.set_ylim(*ylim)\n",
    "    axes.set_xlabel(\"Training examples\")\n",
    "    axes.set_ylabel(\"Score\")\n",
    "\n",
    "    train_sizes, train_scores, test_scores, fit_times, _  = learning_curve(\n",
    "        estimator,\n",
    "        X,\n",
    "        y,\n",
    "        cv=cv,\n",
    "        n_jobs=n_jobs,\n",
    "        train_sizes=train_sizes,\n",
    "        return_times=True,\n",
    "    )\n",
    "    train_scores_mean = np.mean(train_scores, axis=1)\n",
    "    train_scores_std = np.std(train_scores, axis=1)\n",
    "    test_scores_mean = np.mean(test_scores, axis=1)\n",
    "    test_scores_std = np.std(test_scores, axis=1)\n",
    "    fit_times_mean = np.mean(fit_times, axis=1)\n",
    "    fit_times_std = np.std(fit_times, axis=1)\n",
    "\n",
    "    # Plot learning curve\n",
    "    axes.grid()\n",
    "    axes.fill_between(\n",
    "        train_sizes,\n",
    "        train_scores_mean - train_scores_std,\n",
    "        train_scores_mean + train_scores_std,\n",
    "        alpha=0.1,\n",
    "        color=\"r\",\n",
    "    )\n",
    "    axes.fill_between(\n",
    "        train_sizes,\n",
    "        test_scores_mean - test_scores_std,\n",
    "        test_scores_mean + test_scores_std,\n",
    "        alpha=0.1,\n",
    "        color=\"g\",\n",
    "    )\n",
    "    axes.plot(\n",
    "        train_sizes, train_scores_mean, \"o-\", color=\"r\", label=\"Training score\"\n",
    "    )\n",
    "    axes.plot(\n",
    "        train_sizes, test_scores_mean, \"o-\", color=\"g\", label=\"Cross-validation score\"\n",
    "    )\n",
    "    axes.legend(loc=\"best\")\n"
   ]
  },
  {
   "cell_type": "code",
   "execution_count": 12,
   "id": "697a4599",
   "metadata": {},
   "outputs": [],
   "source": [
    "def print_results(results):\n",
    "    print('BEST PARAMS: {}\\n'.format(results.best_params_))\n",
    "\n",
    "    means = results.cv_results_['mean_test_score']\n",
    "    stds = results.cv_results_['std_test_score']\n",
    "    for mean, std, params in zip(means, stds, results.cv_results_['params']):\n",
    "        print('{} (+/-{}) for {}'.format(round(mean, 3), round(std * 2, 3), params))"
   ]
  },
  {
   "cell_type": "markdown",
   "id": "f506abd3",
   "metadata": {},
   "source": [
    "### Random Forest\n",
    "I chose random forest to predict which species in this dataset. This data set can be classified by three species making the RF the right choice of an algorithm as it pertains only to classification problem types. Although the performance speed is not fast, the performance was good with the 60-20-20 split having results of Accuracy: 0.986 / Precision: 0.986 / Recall: 0.986 / Latency: 18.8ms. RF being in second place for its scores has more latency than any of the other algorithms"
   ]
  },
  {
   "cell_type": "code",
   "execution_count": 13,
   "id": "5c0607ee",
   "metadata": {
    "scrolled": true
   },
   "outputs": [
    {
     "name": "stdout",
     "output_type": "stream",
     "text": [
      "BEST PARAMS: {'max_depth': 10, 'n_estimators': 50}\n",
      "\n",
      "0.961 (+/-0.024) for {'max_depth': 2, 'n_estimators': 5}\n",
      "0.971 (+/-0.019) for {'max_depth': 2, 'n_estimators': 50}\n",
      "0.966 (+/-0.023) for {'max_depth': 2, 'n_estimators': 100}\n",
      "0.971 (+/-0.057) for {'max_depth': 10, 'n_estimators': 5}\n",
      "0.986 (+/-0.038) for {'max_depth': 10, 'n_estimators': 50}\n",
      "0.976 (+/-0.03) for {'max_depth': 10, 'n_estimators': 100}\n",
      "0.971 (+/-0.036) for {'max_depth': 20, 'n_estimators': 5}\n",
      "0.981 (+/-0.036) for {'max_depth': 20, 'n_estimators': 50}\n",
      "0.981 (+/-0.036) for {'max_depth': 20, 'n_estimators': 100}\n",
      "0.971 (+/-0.019) for {'max_depth': None, 'n_estimators': 5}\n",
      "0.986 (+/-0.038) for {'max_depth': None, 'n_estimators': 50}\n",
      "0.981 (+/-0.036) for {'max_depth': None, 'n_estimators': 100}\n"
     ]
    }
   ],
   "source": [
    "rf = RandomForestClassifier()\n",
    "parameters = {\n",
    "    'n_estimators': [5, 50, 100],\n",
    "    'max_depth': [2, 10, 20, None]\n",
    "}\n",
    "\n",
    "GDRF = GridSearchCV(rf, parameters, cv=5)\n",
    "GDRF.fit(tr_features, tr_labels.values.ravel())\n",
    "\n",
    "print_results(GDRF)\n"
   ]
  },
  {
   "cell_type": "code",
   "execution_count": 14,
   "id": "460e410e",
   "metadata": {},
   "outputs": [
    {
     "data": {
      "text/plain": [
       "RandomForestClassifier(max_depth=10, n_estimators=50)"
      ]
     },
     "execution_count": 14,
     "metadata": {},
     "output_type": "execute_result"
    }
   ],
   "source": [
    "GDRF.best_estimator_"
   ]
  },
  {
   "cell_type": "code",
   "execution_count": 15,
   "id": "90734396",
   "metadata": {
    "scrolled": false
   },
   "outputs": [
    {
     "data": {
      "text/plain": [
       "['RF_model.pkl']"
      ]
     },
     "execution_count": 15,
     "metadata": {},
     "output_type": "execute_result"
    }
   ],
   "source": [
    "joblib.dump(GDRF.best_estimator_, 'RF_model.pkl')"
   ]
  },
  {
   "cell_type": "code",
   "execution_count": 16,
   "id": "86f0fe36",
   "metadata": {},
   "outputs": [
    {
     "data": {
      "image/png": "[encoded data removed]",
      "text/plain": [
       "<Figure size 1440x360 with 1 Axes>"
      ]
     },
     "metadata": {
      "needs_background": "light"
     },
     "output_type": "display_data"
    }
   ],
   "source": [
    "rf = RandomForestClassifier()\n",
    "parameters = {\n",
    "    'n_estimators': [GDRF.best_estimator_.n_estimators],\n",
    "    'max_depth': [GDRF.best_estimator_.max_depth]\n",
    "}\n",
    "\n",
    "\n",
    "title = 'Random Forest Classifier '.format(GDRF.best_estimator_.n_estimators, GDRF.best_estimator_.max_depth)\n",
    "estimator = rf\n",
    "plot_learning_curve(\n",
    "    estimator, title, tr_features, tr_labels.values.ravel(), axes=None, ylim=(0.7, 1.01), cv=None, n_jobs=None\n",
    ")"
   ]
  },
  {
   "cell_type": "markdown",
   "id": "86c8f1bd",
   "metadata": {},
   "source": [
    "### RF wit 80-10-10 split"
   ]
  },
  {
   "cell_type": "code",
   "execution_count": 17,
   "id": "b8485d02",
   "metadata": {
    "scrolled": true
   },
   "outputs": [
    {
     "name": "stdout",
     "output_type": "stream",
     "text": [
      "BEST PARAMS: {'max_depth': 10, 'n_estimators': 50}\n",
      "\n",
      "0.924 (+/-0.106) for {'max_depth': 2, 'n_estimators': 5}\n",
      "0.967 (+/-0.015) for {'max_depth': 2, 'n_estimators': 50}\n",
      "0.967 (+/-0.027) for {'max_depth': 2, 'n_estimators': 100}\n",
      "0.967 (+/-0.027) for {'max_depth': 10, 'n_estimators': 5}\n",
      "0.978 (+/-0.027) for {'max_depth': 10, 'n_estimators': 50}\n",
      "0.978 (+/-0.036) for {'max_depth': 10, 'n_estimators': 100}\n",
      "0.964 (+/-0.046) for {'max_depth': 20, 'n_estimators': 5}\n",
      "0.975 (+/-0.018) for {'max_depth': 20, 'n_estimators': 50}\n",
      "0.978 (+/-0.027) for {'max_depth': 20, 'n_estimators': 100}\n",
      "0.964 (+/-0.04) for {'max_depth': None, 'n_estimators': 5}\n",
      "0.971 (+/-0.029) for {'max_depth': None, 'n_estimators': 50}\n",
      "0.975 (+/-0.018) for {'max_depth': None, 'n_estimators': 100}\n"
     ]
    }
   ],
   "source": [
    "rf = RandomForestClassifier()\n",
    "parameters = {\n",
    "    'n_estimators': [5, 50, 100],\n",
    "    'max_depth': [2, 10, 20, None]\n",
    "}\n",
    "\n",
    "GDRF2 = GridSearchCV(rf, parameters, cv=5)\n",
    "GDRF2.fit(tr_features2, tr_labels2.values.ravel())\n",
    "\n",
    "print_results(GDRF2)"
   ]
  },
  {
   "cell_type": "code",
   "execution_count": 18,
   "id": "66b9f76e",
   "metadata": {},
   "outputs": [
    {
     "data": {
      "text/plain": [
       "RandomForestClassifier(max_depth=10, n_estimators=50)"
      ]
     },
     "execution_count": 18,
     "metadata": {},
     "output_type": "execute_result"
    }
   ],
   "source": [
    "GDRF2.best_estimator_"
   ]
  },
  {
   "cell_type": "code",
   "execution_count": 19,
   "id": "289e84a8",
   "metadata": {
    "scrolled": true
   },
   "outputs": [
    {
     "data": {
      "text/plain": [
       "['RF2_model.pkl']"
      ]
     },
     "execution_count": 19,
     "metadata": {},
     "output_type": "execute_result"
    }
   ],
   "source": [
    "joblib.dump(GDRF2.best_estimator_, 'RF2_model.pkl')"
   ]
  },
  {
   "cell_type": "code",
   "execution_count": 20,
   "id": "10e91738",
   "metadata": {},
   "outputs": [
    {
     "data": {
      "image/png": "[encoded data removed]",
      "text/plain": [
       "<Figure size 1440x360 with 1 Axes>"
      ]
     },
     "metadata": {
      "needs_background": "light"
     },
     "output_type": "display_data"
    }
   ],
   "source": [
    "rf = RandomForestClassifier()\n",
    "parameters = {\n",
    "    'n_estimators': [GDRF2.best_estimator_.n_estimators],\n",
    "    'max_depth': [GDRF2.best_estimator_.max_depth]\n",
    "}\n",
    "\n",
    "\n",
    "title = 'Random Forest Classifier '.format(GDRF2.best_estimator_.n_estimators, GDRF2.best_estimator_.max_depth)\n",
    "estimator = rf\n",
    "plot_learning_curve(\n",
    "    estimator, title, tr_features2, tr_labels2.values.ravel(), axes=None, ylim=(0.7, 1.01), cv=None, n_jobs=None\n",
    ")"
   ]
  },
  {
   "cell_type": "markdown",
   "id": "d3b203fd",
   "metadata": {},
   "source": [
    "#### MLP\n",
    "Although MLP is used for complex relationships where performance of the model is the main focus to look at, the results were the worst compared to the other algorithms. MLP with the 80-10-10 split had the better of the two scores with -- Accuracy: 0.743 / Precision: 0.743 / Recall: 0.743 / Latency: 6.3ms. the 80-10-10 set had better results however, took twice as long. After analyzing the results, MLP is not the best suitable algorithm for this dataset."
   ]
  },
  {
   "cell_type": "code",
   "execution_count": 21,
   "id": "25f5151a",
   "metadata": {
    "scrolled": false
   },
   "outputs": [
    {
     "name": "stderr",
     "output_type": "stream",
     "text": [
      "/Users/harismuhammad/opt/anaconda3/lib/python3.9/site-packages/sklearn/neural_network/_multilayer_perceptron.py:614: ConvergenceWarning: Stochastic Optimizer: Maximum iterations (200) reached and the optimization hasn't converged yet.\n",
      "  warnings.warn(\n",
      "/Users/harismuhammad/opt/anaconda3/lib/python3.9/site-packages/sklearn/neural_network/_multilayer_perceptron.py:614: ConvergenceWarning: Stochastic Optimizer: Maximum iterations (200) reached and the optimization hasn't converged yet.\n",
      "  warnings.warn(\n",
      "/Users/harismuhammad/opt/anaconda3/lib/python3.9/site-packages/sklearn/neural_network/_multilayer_perceptron.py:614: ConvergenceWarning: Stochastic Optimizer: Maximum iterations (200) reached and the optimization hasn't converged yet.\n",
      "  warnings.warn(\n",
      "/Users/harismuhammad/opt/anaconda3/lib/python3.9/site-packages/sklearn/neural_network/_multilayer_perceptron.py:614: ConvergenceWarning: Stochastic Optimizer: Maximum iterations (200) reached and the optimization hasn't converged yet.\n",
      "  warnings.warn(\n",
      "/Users/harismuhammad/opt/anaconda3/lib/python3.9/site-packages/sklearn/neural_network/_multilayer_perceptron.py:614: ConvergenceWarning: Stochastic Optimizer: Maximum iterations (200) reached and the optimization hasn't converged yet.\n",
      "  warnings.warn(\n",
      "/Users/harismuhammad/opt/anaconda3/lib/python3.9/site-packages/sklearn/neural_network/_multilayer_perceptron.py:614: ConvergenceWarning: Stochastic Optimizer: Maximum iterations (200) reached and the optimization hasn't converged yet.\n",
      "  warnings.warn(\n",
      "/Users/harismuhammad/opt/anaconda3/lib/python3.9/site-packages/sklearn/neural_network/_multilayer_perceptron.py:614: ConvergenceWarning: Stochastic Optimizer: Maximum iterations (200) reached and the optimization hasn't converged yet.\n",
      "  warnings.warn(\n",
      "/Users/harismuhammad/opt/anaconda3/lib/python3.9/site-packages/sklearn/neural_network/_multilayer_perceptron.py:614: ConvergenceWarning: Stochastic Optimizer: Maximum iterations (200) reached and the optimization hasn't converged yet.\n",
      "  warnings.warn(\n",
      "/Users/harismuhammad/opt/anaconda3/lib/python3.9/site-packages/sklearn/neural_network/_multilayer_perceptron.py:614: ConvergenceWarning: Stochastic Optimizer: Maximum iterations (200) reached and the optimization hasn't converged yet.\n",
      "  warnings.warn(\n",
      "/Users/harismuhammad/opt/anaconda3/lib/python3.9/site-packages/sklearn/neural_network/_multilayer_perceptron.py:614: ConvergenceWarning: Stochastic Optimizer: Maximum iterations (200) reached and the optimization hasn't converged yet.\n",
      "  warnings.warn(\n",
      "/Users/harismuhammad/opt/anaconda3/lib/python3.9/site-packages/sklearn/neural_network/_multilayer_perceptron.py:614: ConvergenceWarning: Stochastic Optimizer: Maximum iterations (200) reached and the optimization hasn't converged yet.\n",
      "  warnings.warn(\n",
      "/Users/harismuhammad/opt/anaconda3/lib/python3.9/site-packages/sklearn/neural_network/_multilayer_perceptron.py:614: ConvergenceWarning: Stochastic Optimizer: Maximum iterations (200) reached and the optimization hasn't converged yet.\n",
      "  warnings.warn(\n",
      "/Users/harismuhammad/opt/anaconda3/lib/python3.9/site-packages/sklearn/neural_network/_multilayer_perceptron.py:614: ConvergenceWarning: Stochastic Optimizer: Maximum iterations (200) reached and the optimization hasn't converged yet.\n",
      "  warnings.warn(\n",
      "/Users/harismuhammad/opt/anaconda3/lib/python3.9/site-packages/sklearn/neural_network/_multilayer_perceptron.py:614: ConvergenceWarning: Stochastic Optimizer: Maximum iterations (200) reached and the optimization hasn't converged yet.\n",
      "  warnings.warn(\n",
      "/Users/harismuhammad/opt/anaconda3/lib/python3.9/site-packages/sklearn/neural_network/_multilayer_perceptron.py:614: ConvergenceWarning: Stochastic Optimizer: Maximum iterations (200) reached and the optimization hasn't converged yet.\n",
      "  warnings.warn(\n",
      "/Users/harismuhammad/opt/anaconda3/lib/python3.9/site-packages/sklearn/neural_network/_multilayer_perceptron.py:614: ConvergenceWarning: Stochastic Optimizer: Maximum iterations (200) reached and the optimization hasn't converged yet.\n",
      "  warnings.warn(\n",
      "/Users/harismuhammad/opt/anaconda3/lib/python3.9/site-packages/sklearn/neural_network/_multilayer_perceptron.py:614: ConvergenceWarning: Stochastic Optimizer: Maximum iterations (200) reached and the optimization hasn't converged yet.\n",
      "  warnings.warn(\n",
      "/Users/harismuhammad/opt/anaconda3/lib/python3.9/site-packages/sklearn/neural_network/_multilayer_perceptron.py:614: ConvergenceWarning: Stochastic Optimizer: Maximum iterations (200) reached and the optimization hasn't converged yet.\n",
      "  warnings.warn(\n",
      "/Users/harismuhammad/opt/anaconda3/lib/python3.9/site-packages/sklearn/neural_network/_multilayer_perceptron.py:614: ConvergenceWarning: Stochastic Optimizer: Maximum iterations (200) reached and the optimization hasn't converged yet.\n",
      "  warnings.warn(\n",
      "/Users/harismuhammad/opt/anaconda3/lib/python3.9/site-packages/sklearn/neural_network/_multilayer_perceptron.py:614: ConvergenceWarning: Stochastic Optimizer: Maximum iterations (200) reached and the optimization hasn't converged yet.\n",
      "  warnings.warn(\n",
      "/Users/harismuhammad/opt/anaconda3/lib/python3.9/site-packages/sklearn/neural_network/_multilayer_perceptron.py:614: ConvergenceWarning: Stochastic Optimizer: Maximum iterations (200) reached and the optimization hasn't converged yet.\n",
      "  warnings.warn(\n",
      "/Users/harismuhammad/opt/anaconda3/lib/python3.9/site-packages/sklearn/neural_network/_multilayer_perceptron.py:614: ConvergenceWarning: Stochastic Optimizer: Maximum iterations (200) reached and the optimization hasn't converged yet.\n",
      "  warnings.warn(\n",
      "/Users/harismuhammad/opt/anaconda3/lib/python3.9/site-packages/sklearn/neural_network/_multilayer_perceptron.py:614: ConvergenceWarning: Stochastic Optimizer: Maximum iterations (200) reached and the optimization hasn't converged yet.\n",
      "  warnings.warn(\n",
      "/Users/harismuhammad/opt/anaconda3/lib/python3.9/site-packages/sklearn/neural_network/_multilayer_perceptron.py:614: ConvergenceWarning: Stochastic Optimizer: Maximum iterations (200) reached and the optimization hasn't converged yet.\n",
      "  warnings.warn(\n",
      "/Users/harismuhammad/opt/anaconda3/lib/python3.9/site-packages/sklearn/neural_network/_multilayer_perceptron.py:614: ConvergenceWarning: Stochastic Optimizer: Maximum iterations (200) reached and the optimization hasn't converged yet.\n",
      "  warnings.warn(\n",
      "/Users/harismuhammad/opt/anaconda3/lib/python3.9/site-packages/sklearn/neural_network/_multilayer_perceptron.py:614: ConvergenceWarning: Stochastic Optimizer: Maximum iterations (200) reached and the optimization hasn't converged yet.\n",
      "  warnings.warn(\n"
     ]
    },
    {
     "name": "stdout",
     "output_type": "stream",
     "text": [
      "BEST PARAMS: {'activation': 'logistic', 'hidden_layer_sizes': (50,), 'learning_rate': 'invscaling'}\n",
      "\n",
      "0.306 (+/-0.136) for {'activation': 'relu', 'hidden_layer_sizes': (10,), 'learning_rate': 'constant'}\n",
      "0.223 (+/-0.17) for {'activation': 'relu', 'hidden_layer_sizes': (10,), 'learning_rate': 'invscaling'}\n",
      "0.257 (+/-0.166) for {'activation': 'relu', 'hidden_layer_sizes': (10,), 'learning_rate': 'adaptive'}\n",
      "0.427 (+/-0.117) for {'activation': 'relu', 'hidden_layer_sizes': (50,), 'learning_rate': 'constant'}\n",
      "0.349 (+/-0.281) for {'activation': 'relu', 'hidden_layer_sizes': (50,), 'learning_rate': 'invscaling'}\n",
      "0.393 (+/-0.257) for {'activation': 'relu', 'hidden_layer_sizes': (50,), 'learning_rate': 'adaptive'}\n",
      "0.471 (+/-0.254) for {'activation': 'relu', 'hidden_layer_sizes': (100,), 'learning_rate': 'constant'}\n",
      "0.452 (+/-0.19) for {'activation': 'relu', 'hidden_layer_sizes': (100,), 'learning_rate': 'invscaling'}\n",
      "0.34 (+/-0.135) for {'activation': 'relu', 'hidden_layer_sizes': (100,), 'learning_rate': 'adaptive'}\n",
      "0.417 (+/-0.055) for {'activation': 'tanh', 'hidden_layer_sizes': (10,), 'learning_rate': 'constant'}\n",
      "0.427 (+/-0.022) for {'activation': 'tanh', 'hidden_layer_sizes': (10,), 'learning_rate': 'invscaling'}\n",
      "0.481 (+/-0.203) for {'activation': 'tanh', 'hidden_layer_sizes': (10,), 'learning_rate': 'adaptive'}\n",
      "0.455 (+/-0.221) for {'activation': 'tanh', 'hidden_layer_sizes': (50,), 'learning_rate': 'constant'}\n",
      "0.486 (+/-0.222) for {'activation': 'tanh', 'hidden_layer_sizes': (50,), 'learning_rate': 'invscaling'}\n",
      "0.452 (+/-0.265) for {'activation': 'tanh', 'hidden_layer_sizes': (50,), 'learning_rate': 'adaptive'}\n",
      "0.432 (+/-0.117) for {'activation': 'tanh', 'hidden_layer_sizes': (100,), 'learning_rate': 'constant'}\n",
      "0.587 (+/-0.362) for {'activation': 'tanh', 'hidden_layer_sizes': (100,), 'learning_rate': 'invscaling'}\n",
      "0.539 (+/-0.275) for {'activation': 'tanh', 'hidden_layer_sizes': (100,), 'learning_rate': 'adaptive'}\n",
      "0.489 (+/-0.25) for {'activation': 'logistic', 'hidden_layer_sizes': (10,), 'learning_rate': 'constant'}\n",
      "0.427 (+/-0.022) for {'activation': 'logistic', 'hidden_layer_sizes': (10,), 'learning_rate': 'invscaling'}\n",
      "0.427 (+/-0.022) for {'activation': 'logistic', 'hidden_layer_sizes': (10,), 'learning_rate': 'adaptive'}\n",
      "0.596 (+/-0.29) for {'activation': 'logistic', 'hidden_layer_sizes': (50,), 'learning_rate': 'constant'}\n",
      "0.704 (+/-0.042) for {'activation': 'logistic', 'hidden_layer_sizes': (50,), 'learning_rate': 'invscaling'}\n",
      "0.491 (+/-0.242) for {'activation': 'logistic', 'hidden_layer_sizes': (50,), 'learning_rate': 'adaptive'}\n",
      "0.577 (+/-0.307) for {'activation': 'logistic', 'hidden_layer_sizes': (100,), 'learning_rate': 'constant'}\n",
      "0.549 (+/-0.282) for {'activation': 'logistic', 'hidden_layer_sizes': (100,), 'learning_rate': 'invscaling'}\n",
      "0.641 (+/-0.22) for {'activation': 'logistic', 'hidden_layer_sizes': (100,), 'learning_rate': 'adaptive'}\n"
     ]
    },
    {
     "name": "stderr",
     "output_type": "stream",
     "text": [
      "/Users/harismuhammad/opt/anaconda3/lib/python3.9/site-packages/sklearn/neural_network/_multilayer_perceptron.py:614: ConvergenceWarning: Stochastic Optimizer: Maximum iterations (200) reached and the optimization hasn't converged yet.\n",
      "  warnings.warn(\n"
     ]
    }
   ],
   "source": [
    "mlp = MLPClassifier()\n",
    "parameters = {\n",
    "    'hidden_layer_sizes': [(10,), (50,), (100,)],\n",
    "    'activation': ['relu', 'tanh', 'logistic'],\n",
    "    'learning_rate': ['constant', 'invscaling', 'adaptive']\n",
    "}\n",
    "\n",
    "GDMLP = GridSearchCV(mlp, parameters, cv=5)\n",
    "GDMLP.fit(tr_features, tr_labels.values.ravel())\n",
    "\n",
    "print_results(GDMLP)"
   ]
  },
  {
   "cell_type": "code",
   "execution_count": 22,
   "id": "2ef46c2f",
   "metadata": {},
   "outputs": [
    {
     "data": {
      "text/plain": [
       "MLPClassifier(activation='logistic', hidden_layer_sizes=(50,),\n",
       "              learning_rate='invscaling')"
      ]
     },
     "execution_count": 22,
     "metadata": {},
     "output_type": "execute_result"
    }
   ],
   "source": [
    "GDMLP.best_estimator_"
   ]
  },
  {
   "cell_type": "code",
   "execution_count": 23,
   "id": "ea1b57c5",
   "metadata": {},
   "outputs": [
    {
     "data": {
      "text/plain": [
       "['MLP_model.pkl']"
      ]
     },
     "execution_count": 23,
     "metadata": {},
     "output_type": "execute_result"
    }
   ],
   "source": [
    "joblib.dump(GDMLP.best_estimator_, 'MLP_model.pkl')"
   ]
  },
  {
   "cell_type": "code",
   "execution_count": 24,
   "id": "92b18f80",
   "metadata": {},
   "outputs": [
    {
     "data": {
      "image/png": "[encoded data removed]",
      "text/plain": [
       "<Figure size 1440x360 with 1 Axes>"
      ]
     },
     "metadata": {
      "needs_background": "light"
     },
     "output_type": "display_data"
    }
   ],
   "source": [
    "mlp = MLPClassifier()\n",
    "parameters = {\n",
    "    'hidden_layer_sizes': [GDMLP.best_estimator_.hidden_layer_sizes],\n",
    "    'activation': [GDMLP.best_estimator_.activation],\n",
    "    'learning_rate': [GDMLP.best_estimator_.learning_rate]\n",
    "}\n",
    "\n",
    "\n",
    "title = 'MLP '.format(GDMLP.best_estimator_.hidden_layer_sizes,GDMLP.best_estimator_.activation, GDMLP.best_estimator_.learning_rate)\n",
    "estimator = mlp\n",
    "plot_learning_curve(\n",
    "    estimator, title, tr_features, tr_labels.values.ravel(), axes=None, ylim=(0.3, 1.01), cv=None, n_jobs=None\n",
    ")"
   ]
  },
  {
   "cell_type": "markdown",
   "id": "aaef532d",
   "metadata": {},
   "source": [
    "### ### MLP_2 wit 80-10-10 split"
   ]
  },
  {
   "cell_type": "code",
   "execution_count": 25,
   "id": "4e9c3457",
   "metadata": {},
   "outputs": [
    {
     "name": "stderr",
     "output_type": "stream",
     "text": [
      "/Users/harismuhammad/opt/anaconda3/lib/python3.9/site-packages/sklearn/neural_network/_multilayer_perceptron.py:614: ConvergenceWarning: Stochastic Optimizer: Maximum iterations (200) reached and the optimization hasn't converged yet.\n",
      "  warnings.warn(\n",
      "/Users/harismuhammad/opt/anaconda3/lib/python3.9/site-packages/sklearn/neural_network/_multilayer_perceptron.py:614: ConvergenceWarning: Stochastic Optimizer: Maximum iterations (200) reached and the optimization hasn't converged yet.\n",
      "  warnings.warn(\n",
      "/Users/harismuhammad/opt/anaconda3/lib/python3.9/site-packages/sklearn/neural_network/_multilayer_perceptron.py:614: ConvergenceWarning: Stochastic Optimizer: Maximum iterations (200) reached and the optimization hasn't converged yet.\n",
      "  warnings.warn(\n",
      "/Users/harismuhammad/opt/anaconda3/lib/python3.9/site-packages/sklearn/neural_network/_multilayer_perceptron.py:614: ConvergenceWarning: Stochastic Optimizer: Maximum iterations (200) reached and the optimization hasn't converged yet.\n",
      "  warnings.warn(\n",
      "/Users/harismuhammad/opt/anaconda3/lib/python3.9/site-packages/sklearn/neural_network/_multilayer_perceptron.py:614: ConvergenceWarning: Stochastic Optimizer: Maximum iterations (200) reached and the optimization hasn't converged yet.\n",
      "  warnings.warn(\n",
      "/Users/harismuhammad/opt/anaconda3/lib/python3.9/site-packages/sklearn/neural_network/_multilayer_perceptron.py:614: ConvergenceWarning: Stochastic Optimizer: Maximum iterations (200) reached and the optimization hasn't converged yet.\n",
      "  warnings.warn(\n",
      "/Users/harismuhammad/opt/anaconda3/lib/python3.9/site-packages/sklearn/neural_network/_multilayer_perceptron.py:614: ConvergenceWarning: Stochastic Optimizer: Maximum iterations (200) reached and the optimization hasn't converged yet.\n",
      "  warnings.warn(\n",
      "/Users/harismuhammad/opt/anaconda3/lib/python3.9/site-packages/sklearn/neural_network/_multilayer_perceptron.py:614: ConvergenceWarning: Stochastic Optimizer: Maximum iterations (200) reached and the optimization hasn't converged yet.\n",
      "  warnings.warn(\n",
      "/Users/harismuhammad/opt/anaconda3/lib/python3.9/site-packages/sklearn/neural_network/_multilayer_perceptron.py:614: ConvergenceWarning: Stochastic Optimizer: Maximum iterations (200) reached and the optimization hasn't converged yet.\n",
      "  warnings.warn(\n",
      "/Users/harismuhammad/opt/anaconda3/lib/python3.9/site-packages/sklearn/neural_network/_multilayer_perceptron.py:614: ConvergenceWarning: Stochastic Optimizer: Maximum iterations (200) reached and the optimization hasn't converged yet.\n",
      "  warnings.warn(\n",
      "/Users/harismuhammad/opt/anaconda3/lib/python3.9/site-packages/sklearn/neural_network/_multilayer_perceptron.py:614: ConvergenceWarning: Stochastic Optimizer: Maximum iterations (200) reached and the optimization hasn't converged yet.\n",
      "  warnings.warn(\n",
      "/Users/harismuhammad/opt/anaconda3/lib/python3.9/site-packages/sklearn/neural_network/_multilayer_perceptron.py:614: ConvergenceWarning: Stochastic Optimizer: Maximum iterations (200) reached and the optimization hasn't converged yet.\n",
      "  warnings.warn(\n",
      "/Users/harismuhammad/opt/anaconda3/lib/python3.9/site-packages/sklearn/neural_network/_multilayer_perceptron.py:614: ConvergenceWarning: Stochastic Optimizer: Maximum iterations (200) reached and the optimization hasn't converged yet.\n",
      "  warnings.warn(\n",
      "/Users/harismuhammad/opt/anaconda3/lib/python3.9/site-packages/sklearn/neural_network/_multilayer_perceptron.py:614: ConvergenceWarning: Stochastic Optimizer: Maximum iterations (200) reached and the optimization hasn't converged yet.\n",
      "  warnings.warn(\n",
      "/Users/harismuhammad/opt/anaconda3/lib/python3.9/site-packages/sklearn/neural_network/_multilayer_perceptron.py:614: ConvergenceWarning: Stochastic Optimizer: Maximum iterations (200) reached and the optimization hasn't converged yet.\n",
      "  warnings.warn(\n",
      "/Users/harismuhammad/opt/anaconda3/lib/python3.9/site-packages/sklearn/neural_network/_multilayer_perceptron.py:614: ConvergenceWarning: Stochastic Optimizer: Maximum iterations (200) reached and the optimization hasn't converged yet.\n",
      "  warnings.warn(\n",
      "/Users/harismuhammad/opt/anaconda3/lib/python3.9/site-packages/sklearn/neural_network/_multilayer_perceptron.py:614: ConvergenceWarning: Stochastic Optimizer: Maximum iterations (200) reached and the optimization hasn't converged yet.\n",
      "  warnings.warn(\n",
      "/Users/harismuhammad/opt/anaconda3/lib/python3.9/site-packages/sklearn/neural_network/_multilayer_perceptron.py:614: ConvergenceWarning: Stochastic Optimizer: Maximum iterations (200) reached and the optimization hasn't converged yet.\n",
      "  warnings.warn(\n"
     ]
    },
    {
     "name": "stdout",
     "output_type": "stream",
     "text": [
      "BEST PARAMS: {'activation': 'logistic', 'hidden_layer_sizes': (100,), 'learning_rate': 'constant'}\n",
      "\n",
      "0.353 (+/-0.178) for {'activation': 'relu', 'hidden_layer_sizes': (10,), 'learning_rate': 'constant'}\n",
      "0.298 (+/-0.19) for {'activation': 'relu', 'hidden_layer_sizes': (10,), 'learning_rate': 'invscaling'}\n",
      "0.335 (+/-0.201) for {'activation': 'relu', 'hidden_layer_sizes': (10,), 'learning_rate': 'adaptive'}\n",
      "0.367 (+/-0.162) for {'activation': 'relu', 'hidden_layer_sizes': (50,), 'learning_rate': 'constant'}\n",
      "0.549 (+/-0.293) for {'activation': 'relu', 'hidden_layer_sizes': (50,), 'learning_rate': 'invscaling'}\n",
      "0.356 (+/-0.316) for {'activation': 'relu', 'hidden_layer_sizes': (50,), 'learning_rate': 'adaptive'}\n",
      "0.473 (+/-0.303) for {'activation': 'relu', 'hidden_layer_sizes': (100,), 'learning_rate': 'constant'}\n",
      "0.502 (+/-0.227) for {'activation': 'relu', 'hidden_layer_sizes': (100,), 'learning_rate': 'invscaling'}\n",
      "0.367 (+/-0.222) for {'activation': 'relu', 'hidden_layer_sizes': (100,), 'learning_rate': 'adaptive'}\n",
      "0.436 (+/-0.0) for {'activation': 'tanh', 'hidden_layer_sizes': (10,), 'learning_rate': 'constant'}\n",
      "0.465 (+/-0.116) for {'activation': 'tanh', 'hidden_layer_sizes': (10,), 'learning_rate': 'invscaling'}\n",
      "0.473 (+/-0.145) for {'activation': 'tanh', 'hidden_layer_sizes': (10,), 'learning_rate': 'adaptive'}\n",
      "0.48 (+/-0.233) for {'activation': 'tanh', 'hidden_layer_sizes': (50,), 'learning_rate': 'constant'}\n",
      "0.455 (+/-0.156) for {'activation': 'tanh', 'hidden_layer_sizes': (50,), 'learning_rate': 'invscaling'}\n",
      "0.436 (+/-0.0) for {'activation': 'tanh', 'hidden_layer_sizes': (50,), 'learning_rate': 'adaptive'}\n",
      "0.527 (+/-0.289) for {'activation': 'tanh', 'hidden_layer_sizes': (100,), 'learning_rate': 'constant'}\n",
      "0.644 (+/-0.215) for {'activation': 'tanh', 'hidden_layer_sizes': (100,), 'learning_rate': 'invscaling'}\n",
      "0.513 (+/-0.19) for {'activation': 'tanh', 'hidden_layer_sizes': (100,), 'learning_rate': 'adaptive'}\n",
      "0.436 (+/-0.0) for {'activation': 'logistic', 'hidden_layer_sizes': (10,), 'learning_rate': 'constant'}\n",
      "0.604 (+/-0.275) for {'activation': 'logistic', 'hidden_layer_sizes': (10,), 'learning_rate': 'invscaling'}\n",
      "0.436 (+/-0.0) for {'activation': 'logistic', 'hidden_layer_sizes': (10,), 'learning_rate': 'adaptive'}\n",
      "0.625 (+/-0.192) for {'activation': 'logistic', 'hidden_layer_sizes': (50,), 'learning_rate': 'constant'}\n",
      "0.585 (+/-0.244) for {'activation': 'logistic', 'hidden_layer_sizes': (50,), 'learning_rate': 'invscaling'}\n",
      "0.589 (+/-0.249) for {'activation': 'logistic', 'hidden_layer_sizes': (50,), 'learning_rate': 'adaptive'}\n",
      "0.68 (+/-0.252) for {'activation': 'logistic', 'hidden_layer_sizes': (100,), 'learning_rate': 'constant'}\n",
      "0.651 (+/-0.223) for {'activation': 'logistic', 'hidden_layer_sizes': (100,), 'learning_rate': 'invscaling'}\n",
      "0.535 (+/-0.247) for {'activation': 'logistic', 'hidden_layer_sizes': (100,), 'learning_rate': 'adaptive'}\n"
     ]
    },
    {
     "name": "stderr",
     "output_type": "stream",
     "text": [
      "/Users/harismuhammad/opt/anaconda3/lib/python3.9/site-packages/sklearn/neural_network/_multilayer_perceptron.py:614: ConvergenceWarning: Stochastic Optimizer: Maximum iterations (200) reached and the optimization hasn't converged yet.\n",
      "  warnings.warn(\n"
     ]
    }
   ],
   "source": [
    "mlp = MLPClassifier()\n",
    "parameters = {\n",
    "    'hidden_layer_sizes': [(10,), (50,), (100,)],\n",
    "    'activation': ['relu', 'tanh', 'logistic'],\n",
    "    'learning_rate': ['constant', 'invscaling', 'adaptive']\n",
    "}\n",
    "\n",
    "GDMLP2 = GridSearchCV(mlp, parameters, cv=5)\n",
    "GDMLP2.fit(tr_features2, tr_labels2.values.ravel())\n",
    "\n",
    "print_results(GDMLP2)"
   ]
  },
  {
   "cell_type": "code",
   "execution_count": 26,
   "id": "31cd0464",
   "metadata": {
    "scrolled": true
   },
   "outputs": [
    {
     "data": {
      "text/plain": [
       "MLPClassifier(activation='logistic')"
      ]
     },
     "execution_count": 26,
     "metadata": {},
     "output_type": "execute_result"
    }
   ],
   "source": [
    "GDMLP2.best_estimator_"
   ]
  },
  {
   "cell_type": "code",
   "execution_count": 27,
   "id": "b49dd5a9",
   "metadata": {},
   "outputs": [
    {
     "data": {
      "text/plain": [
       "['MLP2_model.pkl']"
      ]
     },
     "execution_count": 27,
     "metadata": {},
     "output_type": "execute_result"
    }
   ],
   "source": [
    "joblib.dump(GDMLP2.best_estimator_, 'MLP2_model.pkl')"
   ]
  },
  {
   "cell_type": "code",
   "execution_count": 28,
   "id": "7b879b69",
   "metadata": {
    "scrolled": true
   },
   "outputs": [
    {
     "data": {
      "image/png": "[encoded data removed]",
      "text/plain": [
       "<Figure size 1440x360 with 1 Axes>"
      ]
     },
     "metadata": {
      "needs_background": "light"
     },
     "output_type": "display_data"
    }
   ],
   "source": [
    "mlp = MLPClassifier()\n",
    "parameters = {\n",
    "    'hidden_layer_sizes': [GDMLP2.best_estimator_.hidden_layer_sizes],\n",
    "    'activation': [GDMLP2.best_estimator_.activation],\n",
    "    'learning_rate': [GDMLP2.best_estimator_.learning_rate]\n",
    "}\n",
    "\n",
    "\n",
    "title = 'MLP '.format(GDMLP2.best_estimator_.hidden_layer_sizes,GDMLP2.best_estimator_.activation, GDMLP2.best_estimator_.learning_rate)\n",
    "estimator = mlp\n",
    "plot_learning_curve(\n",
    "    estimator, title, tr_features2, tr_labels2.values.ravel(), axes=None, ylim=(0.3, 1.01), cv=None, n_jobs=None\n",
    ")"
   ]
  },
  {
   "cell_type": "markdown",
   "id": "e554c8a9",
   "metadata": {},
   "source": [
    "### SVM wit 60-20-20 split\n",
    "I chose SVM to predict which species in this dataset. When analyzing the data, there is a good amount of outliers, and 5 dimensions making the dataset complex to work with. This fits the criteria when using the SVM and is proven in the results, SVM with the 60-20-20 split had better of the two with -- Accuracy: 0.986 / Precision: 0.986 / Recall: 0.986 / Latency: 5.5ms. This algorithm performed the best out of all the algorithms in both ratios. Although this SVM with a ratio of 60-20-20 has the best score the SVM with a ratio 80-10-10 had less latency and score but ultimately the 60-20-20 is the best overall."
   ]
  },
  {
   "cell_type": "code",
   "execution_count": 29,
   "id": "98904c4f",
   "metadata": {},
   "outputs": [],
   "source": [
    "def print_results(results):\n",
    "    print('BEST PARAMS: {}\\n'.format(results.best_params_))\n",
    "\n",
    "    means = results.cv_results_['mean_test_score']\n",
    "    stds = results.cv_results_['std_test_score']\n",
    "    for mean, std, params in zip(means, stds, results.cv_results_['params']):\n",
    "        print('{} (+/-{}) for {}'.format(round(mean, 3), round(std * 2, 3), params))"
   ]
  },
  {
   "cell_type": "code",
   "execution_count": 30,
   "id": "73ddff50",
   "metadata": {},
   "outputs": [
    {
     "name": "stdout",
     "output_type": "stream",
     "text": [
      "BEST PARAMS: {'C': 0.1, 'kernel': 'linear'}\n",
      "\n",
      "0.99 (+/-0.024) for {'C': 0.1, 'kernel': 'linear'}\n",
      "0.748 (+/-0.021) for {'C': 0.1, 'kernel': 'rbf'}\n",
      "0.99 (+/-0.039) for {'C': 1, 'kernel': 'linear'}\n",
      "0.748 (+/-0.048) for {'C': 1, 'kernel': 'rbf'}\n",
      "0.99 (+/-0.039) for {'C': 10, 'kernel': 'linear'}\n",
      "0.743 (+/-0.049) for {'C': 10, 'kernel': 'rbf'}\n"
     ]
    }
   ],
   "source": [
    "svc = SVC()\n",
    "parameters = {\n",
    "    'kernel': ['linear', 'rbf'],\n",
    "    'C': [0.1, 1, 10]\n",
    "}\n",
    "\n",
    "cv = GridSearchCV(svc, parameters, cv=5)\n",
    "cv.fit(tr_features, tr_labels.values.ravel())\n",
    "\n",
    "print_results(cv)"
   ]
  },
  {
   "cell_type": "code",
   "execution_count": 31,
   "id": "2ee16648",
   "metadata": {},
   "outputs": [
    {
     "data": {
      "text/plain": [
       "SVC(C=0.1, kernel='linear')"
      ]
     },
     "execution_count": 31,
     "metadata": {},
     "output_type": "execute_result"
    }
   ],
   "source": [
    "cv.best_estimator_"
   ]
  },
  {
   "cell_type": "code",
   "execution_count": 32,
   "id": "10a0d419",
   "metadata": {},
   "outputs": [
    {
     "data": {
      "text/plain": [
       "['SVM_model.pkl']"
      ]
     },
     "execution_count": 32,
     "metadata": {},
     "output_type": "execute_result"
    }
   ],
   "source": [
    "joblib.dump(cv.best_estimator_, 'SVM_model.pkl')"
   ]
  },
  {
   "cell_type": "code",
   "execution_count": 33,
   "id": "f9fdbd38",
   "metadata": {
    "scrolled": true
   },
   "outputs": [
    {
     "data": {
      "image/png": "[encoded data removed]",
      "text/plain": [
       "<Figure size 1440x360 with 1 Axes>"
      ]
     },
     "metadata": {
      "needs_background": "light"
     },
     "output_type": "display_data"
    }
   ],
   "source": [
    "rf = SVC()\n",
    "parameters = {\n",
    "    'kernel': [cv.best_estimator_.kernel],\n",
    "    'C': [cv.best_estimator_.C]\n",
    "}\n",
    "\n",
    "gscv = GridSearchCV(rf, parameters, cv=5)\n",
    "\n",
    "title = 'Random Forest Classifier '.format(cv.best_estimator_.kernel, cv.best_estimator_.C)\n",
    "estimator = rf\n",
    "plot_learning_curve(\n",
    "    estimator, title, tr_features, tr_labels.values.ravel(), axes=None, ylim=(0.3, 1.01), cv=None, n_jobs=None\n",
    ")\n"
   ]
  },
  {
   "cell_type": "code",
   "execution_count": 34,
   "id": "dd9d6481",
   "metadata": {},
   "outputs": [
    {
     "name": "stdout",
     "output_type": "stream",
     "text": [
      "BEST PARAMS: {'C': 0.1, 'kernel': 'linear'}\n",
      "\n",
      "0.989 (+/-0.018) for {'C': 0.1, 'kernel': 'linear'}\n",
      "0.745 (+/-0.065) for {'C': 0.1, 'kernel': 'rbf'}\n",
      "0.989 (+/-0.029) for {'C': 1, 'kernel': 'linear'}\n",
      "0.742 (+/-0.084) for {'C': 1, 'kernel': 'rbf'}\n",
      "0.989 (+/-0.029) for {'C': 10, 'kernel': 'linear'}\n",
      "0.745 (+/-0.076) for {'C': 10, 'kernel': 'rbf'}\n"
     ]
    }
   ],
   "source": [
    "svc = SVC()\n",
    "parameters = {\n",
    "    'kernel': ['linear', 'rbf'],\n",
    "    'C': [0.1, 1, 10]\n",
    "}\n",
    "\n",
    "cv2 = GridSearchCV(svc, parameters, cv=5)\n",
    "cv2.fit(tr_features2, tr_labels2.values.ravel())\n",
    "\n",
    "print_results(cv2)"
   ]
  },
  {
   "cell_type": "code",
   "execution_count": 35,
   "id": "eed8df77",
   "metadata": {},
   "outputs": [
    {
     "data": {
      "text/plain": [
       "SVC(C=0.1, kernel='linear')"
      ]
     },
     "execution_count": 35,
     "metadata": {},
     "output_type": "execute_result"
    }
   ],
   "source": [
    "cv2.best_estimator_"
   ]
  },
  {
   "cell_type": "code",
   "execution_count": 36,
   "id": "cd4c1409",
   "metadata": {},
   "outputs": [
    {
     "data": {
      "text/plain": [
       "['SVM2_model.pkl']"
      ]
     },
     "execution_count": 36,
     "metadata": {},
     "output_type": "execute_result"
    }
   ],
   "source": [
    "joblib.dump(cv2.best_estimator_, 'SVM2_model.pkl')"
   ]
  },
  {
   "cell_type": "code",
   "execution_count": 37,
   "id": "c249d3dc",
   "metadata": {
    "scrolled": true
   },
   "outputs": [
    {
     "data": {
      "image/png": "[encoded data removed]",
      "text/plain": [
       "<Figure size 1440x360 with 1 Axes>"
      ]
     },
     "metadata": {
      "needs_background": "light"
     },
     "output_type": "display_data"
    }
   ],
   "source": [
    "rf = SVC()\n",
    "parameters = {\n",
    "    'kernel': [cv2.best_estimator_.kernel],\n",
    "    'C': [cv2.best_estimator_.C]\n",
    "}\n",
    "\n",
    "gscv = GridSearchCV(rf, parameters, cv=5)\n",
    "\n",
    "title = 'Random Forest Classifier '.format(cv2.best_estimator_.kernel, cv2.best_estimator_.C)\n",
    "estimator = rf\n",
    "plot_learning_curve(\n",
    "    estimator, title, tr_features2, tr_labels2.values.ravel(), axes=None, ylim=(0.7, 1.01), cv=None, n_jobs=None\n",
    ")\n"
   ]
  },
  {
   "cell_type": "markdown",
   "id": "0b5c41eb",
   "metadata": {},
   "source": [
    "## Summary: Compare model results and final model selection\n",
    "\n",
    "Using the Titanic dataset from [this](https://www.kaggle.com/c/titanic/overview) Kaggle competition.\n",
    "\n",
    "In this section, we will do the following:\n",
    "1. Evaluate all of our saved models on the validation set\n",
    "2. Select the best model based on performance on the validation set\n",
    "3. Evaluate that model on the holdout test set"
   ]
  },
  {
   "cell_type": "markdown",
   "id": "40365d4d",
   "metadata": {},
   "source": [
    "### Read in Models"
   ]
  },
  {
   "cell_type": "code",
   "execution_count": 38,
   "id": "c99f68b9",
   "metadata": {},
   "outputs": [],
   "source": [
    "models = {}\n",
    "\n",
    "for mdl in [ 'SVM', 'MLP', 'RF']:\n",
    "    models[mdl] = joblib.load('{}_model.pkl'.format(mdl))"
   ]
  },
  {
   "cell_type": "code",
   "execution_count": 39,
   "id": "805cb9d5",
   "metadata": {},
   "outputs": [
    {
     "data": {
      "text/plain": [
       "{'SVM': SVC(C=0.1, kernel='linear'),\n",
       " 'MLP': MLPClassifier(activation='logistic', hidden_layer_sizes=(50,),\n",
       "               learning_rate='invscaling'),\n",
       " 'RF': RandomForestClassifier(max_depth=10, n_estimators=50)}"
      ]
     },
     "execution_count": 39,
     "metadata": {},
     "output_type": "execute_result"
    }
   ],
   "source": [
    "models"
   ]
  },
  {
   "cell_type": "markdown",
   "id": "a50c3aa7",
   "metadata": {},
   "source": [
    "### Evaluate models on the validation set"
   ]
  },
  {
   "cell_type": "code",
   "execution_count": 40,
   "id": "2f2af51a",
   "metadata": {},
   "outputs": [],
   "source": [
    "def evaluate_model(name, model, features, labels):\n",
    "    start = time()\n",
    "    pred = model.predict(features)\n",
    "    end = time()\n",
    "    accuracy = round(accuracy_score(labels, pred), 3)\n",
    "    precision = round(precision_score(labels, pred, average=\"micro\"), 3)\n",
    "    recall = round(recall_score(labels, pred,average=\"micro\"), 3)\n",
    "    print('{} -- Accuracy: {} / Precision: {} / Recall: {} / Latency: {}ms'.format(name,\n",
    "                                                                                   accuracy,\n",
    "                                                                                   precision,\n",
    "                                                                                   recall,\n",
    "                                                                                   round((end - start)*1000, 1)))"
   ]
  },
  {
   "cell_type": "code",
   "execution_count": 41,
   "id": "2eb9c9a5",
   "metadata": {
    "scrolled": true
   },
   "outputs": [
    {
     "name": "stdout",
     "output_type": "stream",
     "text": [
      "SVM -- Accuracy: 0.986 / Precision: 0.986 / Recall: 0.986 / Latency: 5.5ms\n",
      "MLP -- Accuracy: 0.681 / Precision: 0.681 / Recall: 0.681 / Latency: 10.4ms\n",
      "RF -- Accuracy: 0.986 / Precision: 0.986 / Recall: 0.986 / Latency: 18.8ms\n"
     ]
    }
   ],
   "source": [
    "for name, mdl in models.items():\n",
    "    evaluate_model(name, mdl, val_features, val_labels)"
   ]
  },
  {
   "cell_type": "markdown",
   "id": "38caa24d",
   "metadata": {},
   "source": [
    "### Evaluate best model on test set"
   ]
  },
  {
   "cell_type": "code",
   "execution_count": 42,
   "id": "0a445cc6",
   "metadata": {},
   "outputs": [
    {
     "name": "stdout",
     "output_type": "stream",
     "text": [
      "SVM -- Accuracy: 0.986 / Precision: 0.986 / Recall: 0.986 / Latency: 4.5ms\n"
     ]
    }
   ],
   "source": [
    "evaluate_model('SVM', models['SVM'], te_features, te_labels)"
   ]
  },
  {
   "cell_type": "markdown",
   "id": "6c01e0af",
   "metadata": {},
   "source": [
    "### Read in Models for  80-10-10"
   ]
  },
  {
   "cell_type": "code",
   "execution_count": 43,
   "id": "0b64c78c",
   "metadata": {},
   "outputs": [],
   "source": [
    "models = {}\n",
    "\n",
    "for mdl in [ 'SVM2', 'MLP2', 'RF2']:\n",
    "    models[mdl] = joblib.load('{}_model.pkl'.format(mdl))"
   ]
  },
  {
   "cell_type": "code",
   "execution_count": 44,
   "id": "4e32c7cd",
   "metadata": {
    "scrolled": true
   },
   "outputs": [
    {
     "data": {
      "text/plain": [
       "{'SVM2': SVC(C=0.1, kernel='linear'),\n",
       " 'MLP2': MLPClassifier(activation='logistic'),\n",
       " 'RF2': RandomForestClassifier(max_depth=10, n_estimators=50)}"
      ]
     },
     "execution_count": 44,
     "metadata": {},
     "output_type": "execute_result"
    }
   ],
   "source": [
    "models"
   ]
  },
  {
   "cell_type": "code",
   "execution_count": 45,
   "id": "28bb2477",
   "metadata": {
    "scrolled": false
   },
   "outputs": [
    {
     "name": "stdout",
     "output_type": "stream",
     "text": [
      "SVM2 -- Accuracy: 1.0 / Precision: 1.0 / Recall: 1.0 / Latency: 4.2ms\n",
      "MLP2 -- Accuracy: 0.743 / Precision: 0.743 / Recall: 0.743 / Latency: 6.3ms\n",
      "RF2 -- Accuracy: 0.971 / Precision: 0.971 / Recall: 0.971 / Latency: 23.8ms\n"
     ]
    }
   ],
   "source": [
    "for name, mdl in models.items():\n",
    "    evaluate_model(name, mdl, val_features2, val_labels2)"
   ]
  },
  {
   "cell_type": "markdown",
   "id": "3c7e22a2",
   "metadata": {},
   "source": [
    "### Evaluate best model on test set for 80-10-10"
   ]
  },
  {
   "cell_type": "code",
   "execution_count": 46,
   "id": "0e1c6a63",
   "metadata": {},
   "outputs": [
    {
     "name": "stdout",
     "output_type": "stream",
     "text": [
      "SVM2 -- Accuracy: 0.971 / Precision: 0.971 / Recall: 0.971 / Latency: 3.4ms\n"
     ]
    }
   ],
   "source": [
    "evaluate_model('SVM2', models['SVM2'], te_features2, te_labels2)"
   ]
  },
  {
   "cell_type": "markdown",
   "id": "aac4b525",
   "metadata": {},
   "source": [
    " After analyzing the results of all the algorithms, the best performance was the SVM on 60-20-20 ratio. The MLP algorithms performed the worst even though it had a similar criterion with SVM, The latency was the most as predicted however the performance was poor. I would have changed the MLP algorithm with another algorithm that is more suitable for this dataset. Although both splits performed simmilarly the 60-20-20 split was better."
   ]
  },
  {
   "cell_type": "code",
   "execution_count": null,
   "id": "e6d6d36d",
   "metadata": {},
   "outputs": [],
   "source": []
  }
 ],
 "metadata": {
  "kernelspec": {
   "display_name": "Python 3 (ipykernel)",
   "language": "python",
   "name": "python3"
  },
  "language_info": {
   "codemirror_mode": {
    "name": "ipython",
    "version": 3
   },
   "file_extension": ".py",
   "mimetype": "text/x-python",
   "name": "python",
   "nbconvert_exporter": "python",
   "pygments_lexer": "ipython3",
   "version": "3.9.7"
  }
 },
 "nbformat": 4,
 "nbformat_minor": 5
}
